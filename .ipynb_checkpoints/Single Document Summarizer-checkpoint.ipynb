{
 "cells": [
  {
   "cell_type": "code",
   "execution_count": 83,
   "metadata": {},
   "outputs": [],
   "source": [
    "from sklearn.datasets import load_files\n",
    "import nltk\n",
    "#nltk.download('stopwords')\n",
    "from nltk import sent_tokenize\n",
    "from nltk import word_tokenize\n",
    "from nltk.corpus import stopwords\n",
    "from gensim.models import Word2Vec\n",
    "from gensim.models import KeyedVectors"
   ]
  },
  {
   "cell_type": "markdown",
   "metadata": {},
   "source": [
    "Sources:\n",
    "\n",
    "text1: https://www.seattletimes.com/business/ntsb-faults-asiana-pilots-for-777-crash-says-complex-automated-controls-a-factor/\n",
    "\n",
    "text2: https://www.theguardian.com/world/2014/jun/24/asiana-crash-san-francsico-controls-investigation-pilot"
   ]
  },
  {
   "cell_type": "code",
   "execution_count": 84,
   "metadata": {},
   "outputs": [
    {
     "name": "stdout",
     "output_type": "stream",
     "text": [
      "Cambodian leader Hun Sen on Friday rejected opposition parties ' demands for talks outside the country , accusing them of trying to ` ` internationalize' ' the political crisis .\n",
      "Government and opposition parties have asked King Norodom Sihanouk to host a summit meeting after a series of post-election negotiations between the two opposition groups and Hun Sen 's party to form a new government failed .\n",
      "Opposition leaders Prince Norodom Ranariddh and Sam Rainsy , citing Hun Sen 's threats to arrest opposition figures after two alleged attempts on his life , said they could not negotiate freely in Cambodia and called for talks at Sihanouk 's residence in Beijing .\n",
      "Hun Sen , however , rejected that .\n",
      "` ` I would like to make it clear that all meetings related to Cambodian affairs must be conducted in the Kingdom of Cambodia,' ' Hun Sen told reporters after a Cabinet meeting on Friday .\n",
      "` ` No-one should internationalize Cambodian affairs .\n",
      "It is detrimental to the sovereignty of Cambodia,' ' he said .\n",
      "Hun Sen 's Cambodian People 's Party won 64 of the 122 parliamentary seats in July 's elections , short of the two-thirds majority needed to form a government on its own .\n",
      "Ranariddh and Sam Rainsy have charged that Hun Sen 's victory in the elections was achieved through widespread fraud .\n",
      "They have demanded a thorough investigation into their election complaints as a precondition for their cooperation in getting the national assembly moving and a new government formed .\n",
      "Hun Sen said on Friday that the opposition concerns over their safety in the country was ` ` just an excuse for them to stay abroad .\n",
      "' ' Both Ranariddh and Sam Rainsy have been outside the country since parliament was ceremonially opened on Sep. 24 .\n",
      "Sam Rainsy and a number of opposition figures have been under court investigation for a grenade attack on Hun Sen 's Phnom Penh residence on Sep. 7 .\n",
      "Hun Sen was not home at the time of the attack , which was followed by a police crackdown on demonstrators contesting Hun Sen 's election victory .\n",
      "The Sam Rainsy Party , in a statement released Friday , accused Hun Sen of being ` ` unwilling to make any compromise' ' on negotiations to break the deadlock .\n",
      "` ` A meeting outside Cambodia , as suggested by the opposition , could place all parties on more equal footing,' ' said the statement .\n",
      "` ` But the ruling party refuses to negotiate unless it is able to threaten its negotiating partners with arrest or worse .\n",
      "\n"
     ]
    }
   ],
   "source": [
    "text = '''Cambodian leader Hun Sen on Friday rejected opposition parties ' demands for talks outside the country , accusing them of trying to ` ` internationalize' ' the political crisis .\n",
    "Government and opposition parties have asked King Norodom Sihanouk to host a summit meeting after a series of post-election negotiations between the two opposition groups and Hun Sen 's party to form a new government failed .\n",
    "Opposition leaders Prince Norodom Ranariddh and Sam Rainsy , citing Hun Sen 's threats to arrest opposition figures after two alleged attempts on his life , said they could not negotiate freely in Cambodia and called for talks at Sihanouk 's residence in Beijing .\n",
    "Hun Sen , however , rejected that .\n",
    "` ` I would like to make it clear that all meetings related to Cambodian affairs must be conducted in the Kingdom of Cambodia,' ' Hun Sen told reporters after a Cabinet meeting on Friday .\n",
    "` ` No-one should internationalize Cambodian affairs .\n",
    "It is detrimental to the sovereignty of Cambodia,' ' he said .\n",
    "Hun Sen 's Cambodian People 's Party won 64 of the 122 parliamentary seats in July 's elections , short of the two-thirds majority needed to form a government on its own .\n",
    "Ranariddh and Sam Rainsy have charged that Hun Sen 's victory in the elections was achieved through widespread fraud .\n",
    "They have demanded a thorough investigation into their election complaints as a precondition for their cooperation in getting the national assembly moving and a new government formed .\n",
    "Hun Sen said on Friday that the opposition concerns over their safety in the country was ` ` just an excuse for them to stay abroad .\n",
    "' ' Both Ranariddh and Sam Rainsy have been outside the country since parliament was ceremonially opened on Sep. 24 .\n",
    "Sam Rainsy and a number of opposition figures have been under court investigation for a grenade attack on Hun Sen 's Phnom Penh residence on Sep. 7 .\n",
    "Hun Sen was not home at the time of the attack , which was followed by a police crackdown on demonstrators contesting Hun Sen 's election victory .\n",
    "The Sam Rainsy Party , in a statement released Friday , accused Hun Sen of being ` ` unwilling to make any compromise' ' on negotiations to break the deadlock .\n",
    "` ` A meeting outside Cambodia , as suggested by the opposition , could place all parties on more equal footing,' ' said the statement .\n",
    "` ` But the ruling party refuses to negotiate unless it is able to threaten its negotiating partners with arrest or worse .\n",
    "'''\n",
    "text1 = \"Pilot mismanagement and confusion caused Asiana Flight 214 to crash in San Francisco last year, US accident investigators concluded Tuesday.\\r\\n\\r\\nThe National Transportation Safety Board said there was confusion over whether one of the airliner\\'s key controls was maintaining speed.\\r\\n\\r\\nThe plane, with 307 people on board, was too low and too slow during the landing attempt. Its tail struck a seawall and was ripped off. The rest of plane went spinning and sliding down the runway. When the shattered plane came to rest, a fire erupted. The crash was the only fatal passenger airline accident in the US in the last five years.\\r\\n\\r\\nBefore the vote, Chris Hart, the NTSB\\'s acting chairman, said that increasingly complex automated aircraft controls designed to improve safety are instead creating new opportunities for error.\\r\\n\\r\\nThe Asiana flight crew \\\"over-relied on automated systems that they did not fully understand\\\", said Chris Hart, the NTSB\\'s acting chairman.\\r\\n\\r\\n\\\"In their efforts to compensate for the unreliability of human performance, the designers of automated control systems have unwittingly created opportunities for new error types that can be even more serious than those they were seeking to avoid,\\\" Hart said.\\r\\n\\r\\nThe five-member board is scheduled vote on the probable cause of the Asiana crash, the only fatal passenger airline accident in the US in the last five years.\\r\\n\\r\\nAmong the other issues raised by the investigation are some that long have concerned aviation officials, including hesitancy by some pilots to abort a landing when things go awry or to challenge a captain\\'s actions.\\r\\n\\r\\nThree experienced pilots were in the cockpit on 6 July 2013. The plane, a Boeing 777, had one of the industry\\'s best safety records. And weather conditions that sunny day were near perfect.\\r\\n\\r\\nDespite the violence of the crash, only three people were killed – Chinese teens seated in the back who may not have been wearing their seatbelts and were thrown from the plane. One of the teenage girls survived the crash but was run over by two rescue vehicles in the chaos afterward. Nearly 200 people were injured.\\r\\nIn documents made public by the safety board, Asiana acknowledged the likely cause of the accident was the crew\\'s failure to monitor and maintain the plane\\'s airspeed, and its failure to abort the landing when in trouble. The South Korea-based airline said the pilot and co-pilot reasonably believed the automatic throttle would keep the plane flying fast enough to land safely, when in fact the auto throttle was effectively shut off after the pilot idled it to correct an unexplained climb earlier in the landing.\\r\\n\\r\\nAsiana said the plane should have been designed so that the auto throttle would maintain the proper speed after the pilot put it in \\\"hold mode\\\".\\r\\n\\r\\nBoeing had been warned about the problem by US and European aviation regulators. Asiana urged the safety board to recommend that the aircraft maker be required to include an audible warning to alert pilots when the throttle changes to a setting in which it no longer is maintaining speed.\\r\\n\\r\\n\\\"Asiana has a point,\\\" said John Cox, a former airline pilot and aviation safety consultant, \\\"but this is not the first time it has happened. Any of these highly automated airplanes have these conditions that require special training and pilot awareness. … This is something that has been known for many years and trained for many years.\\\"\\r\\n\\r\\nBoeing told the board there was nothing wrong with the plane, and the crash was caused by the failure of the pilots to maintain speed and to abort the landing when the approach had become unstable, as required by their company\\'s policies. An unstable approach occurs when a plane\\'s speed or rate of descent is too fast or to slow, or the plane isn\\'t properly aligned for landing.\\r\\n\\r\\nCaptain Lee Kang Kuk, 45, a veteran pilot who was new to the 777, was flying the plane. Because an airport navigational aid that helps planes land wasn\\'t working that day, Kuk was flying a visual approach that involves lining up the jet for landing by looking through the windshield and using numerous other cues, rather than relying on a radio-based system called a glide-slope that guides aircraft to the runway. A training captain was sitting next to him in the right seat watching his performance.\\r\\n\\r\\nKuk told transportation accident investigators that he did not immediately move to abort the landing after it became unstable because he felt only the instructor pilot had that authority. Cockpit culture in which the senior captain is viewed as supreme was identified as a factor in several South Korean airliner crashes in the 1980s and 90s. Afterward, procedures and hierarchies were overhauled in Korea and elsewhere, including the US.\"\n",
    "text2 = \"The Asiana flight crew “over-relied on automated systems that they did not fully understand,” Hart said. “As a result, they flew the aircraft too low and too slow and collided with the seawall at the end of the runway.” Asiana’s pilot training also was faulted. Of the 307 people on board Flight 214, three Chinese teens were killed in the crash. Nearly 200 were injured, including 49 seriously.\\r\\nAsiana Airlines said that it has already implemented the NTSB’s training recommendations, and that it agreed with the finding that one factor was the complexity of the autothrottle and autopilot systems, as well as their descriptions in Boeing training manuals.\\r\\nThe jet-maker immediately rejected the notion that the 777’s automated systems contributed to the accident, pointing to the aircraft’s safety record.\\r\\n“Boeing respectfully disagrees with the NTSB’s statement that the 777’s auto-flight system contributed to this accident,” the company said in a statement.\\r\\n“The auto-flight system has been used successfully for over 200 million flight hours across several airplane models, and for more than 55 million safe landings. The evidence collected during this investigation demonstrates that all of the airplane’s systems performed as designed.”\\r\\nThe board, which made 27 recommendations to prevent future disasters, didn’t say the autothrottle failed to perform as designed but rather that its design, under certain circumstances, could lead to confusion as to whether it was controlling speed or in an inactive state.\\r\\nInvestigators said the flight’s three veteran pilots made 20 to 30 different errors, some minor and others significant, during the landing approach. Among the errors were that pilots didn’t follow company procedures when they failed to call out notifications about the plane’s altitude, speed and actions they were taking during the landing approach.\\r\\nThey also weren’t closely monitoring the plane’s airspeed — a fundamental of flying. Instead, they assumed the autothrottle was maintaining the required speed for a safe landing.\\r\\nBut the captain flying the plane, Lee Kang Kuk, 45, who was new to the 777, inadvertently prevented the autothrottle from controlling the plane’s speed. He put the throttle in idle after the plane had unexpectedly climbed too high.\\r\\nHe assumed the throttle would automatically resume controlling speed, as it is designed to do under most circumstances. But because he turned off the autopilot at the same time, the autothrottle remained on hold at the last selected speed, which was idle.\\r\\nA training captain who was sitting next to Lee in the right seat didn’t notice the error, then compounded it by turning off only one of two other key systems for managing the flight. Both systems are supposed to be on or off, but not one on and one off.\\r\\nA third pilot riding in the jump seat noticed that the plane was descending too fast but didn’t speak up right away.\\r\\nThe pilots also didn’t immediately start to abort the landing when they realized something had gone awry. By the time they did call for a “go-around” it was too late.\\r\\nThe plane struck a seawall and its tail was ripped off. The rest of the plane went spinning and sliding down the runway.\\r\\nTwo of the three teens who were killed weren’t wearing their seat belts and were thrown from the plane.\\r\\nThe third teen was hit on the head by one of the plane’s doors but survived the crash.\\r\\nShe was killed when, lying unconscious, she was run over by two San Francisco Fire Department vehicles in the chaos afterward.\\r\\n\\r\\nThe NTSB made a series of recommendations, including that Boeing should develop enhanced training on the use of the autothrottle and also that it should consider modifying the automatic flight control systems to ensure that air speed doesn’t fall below a minimum.\\r\\nBoeing reacted with some wariness to this suggestion.\\r\\n“We are committed to a process of continual improvement of our airplanes, and we will carefully review the NTSB’s recommendations,” its statement said. “However, it is important that any recommendation concerning changes to the airplane’s design be reviewed with great care, and with due consideration for the potential unintended consequences of any change.\"\n",
    "all_texts = [text1, text2]\n",
    "\n",
    "\n",
    "print(text)\n",
    "# 17 sentences"
   ]
  },
  {
   "cell_type": "code",
   "execution_count": 85,
   "metadata": {},
   "outputs": [],
   "source": [
    "def frequency_table(data):\n",
    "    '''Tokenizing text by word and building a frequency table.'''\n",
    "    words = word_tokenize(data)\n",
    "    stop_words = set(stopwords.words(\"english\"))\n",
    "    \n",
    "    freqtable = {}\n",
    "    for word in words:\n",
    "        word = word.lower()\n",
    "        if word not in stop_words:\n",
    "            if word in freqtable:\n",
    "                freqtable[word] += 1\n",
    "            else:\n",
    "                freqtable[word] = 1\n",
    "   # print(freqtable.items())\n",
    "    return freqtable\n",
    "\n",
    "\n",
    "def scores(data, freqtable):\n",
    "    '''Creates a dictionary of scores for each sentence.'''\n",
    "    sentences = sent_tokenize(data)\n",
    "    sent_score = {}\n",
    "\n",
    "    for sent in sentences:\n",
    "        for word, freq in freqtable.items():\n",
    "            if word in sent.lower():\n",
    "                if sent in sent_score:\n",
    "                    sent_score[sent] += freq\n",
    "                else:\n",
    "                    sent_score[sent] = freq\n",
    "    return sent_score\n",
    "\n",
    "# print out setences higher than average\n",
    "def summary(data, sent_score):\n",
    "    '''Calculate average sentence score and print sentences at least 1.5 times greater than the average'''\n",
    "    sum_scores = 0\n",
    "    for sentence in sent_score:\n",
    "        sum_scores += sent_score[sentence]\n",
    "    average_score = sum_scores / len(sent_score)\n",
    "    \n",
    "    sentences = sent_tokenize(data)\n",
    "    summary = ''\n",
    "    for sentence in sentences:\n",
    "        if sentence in sent_score and sent_score[sentence] > average:\n",
    "            summary += \" \" + sentence\n",
    "    return summary\n",
    "\n",
    "# print out top 5 highest scoring sentences\n",
    "def summary_five(data, sent_score):\n",
    "    summary = ''\n",
    "    sorted_scores = sorted(sent_score, reverse = True)\n",
    "    for sent in list(sorted_scores)[0:5]:\n",
    "        summary += sent\n",
    "    return summary\n",
    "\n",
    "def single_summarize(data):\n",
    "    '''Combines functions to summarize a single document.'''\n",
    "    freqtable = frequency_table(data)\n",
    "    sent_scores = scores(data, freqtable)\n",
    "    single_summary = summary_five(data, sent_scores)\n",
    "    return single_summary\n",
    "\n",
    "def multi_sum(data):\n",
    "    '''Generates summaries for all documents. Takes in a list of texts'''\n",
    "    summaries = []\n",
    "    for d in data:\n",
    "        s = single_summarize(d)\n",
    "        summaries.append(s)\n",
    "    return summaries\n",
    "        \n",
    "def combine(summaries):\n",
    "    '''Merge summaries into a single summary. Takes in a list of summaries'''\n",
    "    all_sums = ''\n",
    "    for s in summaries:\n",
    "        all_sums += s\n",
    "    return all_sums\n",
    "\n",
    "def sum_all(data):\n",
    "    '''Generates comprehensive summary. Takes in a list of texts'''\n",
    "    all_summaries = multi_sum(data)\n",
    "    sum_sheet = combine(all_summaries)\n",
    "    final_summary = single_summarize(sum_sheet) #can change to include further redundancy reduction\n",
    "    return final_summary\n"
   ]
  },
  {
   "cell_type": "code",
   "execution_count": 86,
   "metadata": {},
   "outputs": [
    {
     "data": {
      "text/plain": [
       "'… This is something that has been known for many years and trained for many years.\"When the shattered plane came to rest, a fire erupted.Three experienced pilots were in the cockpit on 6 July 2013.The rest of plane went spinning and sliding down the runway.The plane, with 307 people on board, was too low and too slow during the landing attempt.“We are committed to a process of continual improvement of our airplanes, and we will carefully review the NTSB’s recommendations,” its statement said.“The auto-flight system has been used successfully for over 200 million flight hours across several airplane models, and for more than 55 million safe landings.“However, it is important that any recommendation concerning changes to the airplane’s design be reviewed with great care, and with due consideration for the potential unintended consequences of any change.“Boeing respectfully disagrees with the NTSB’s statement that the 777’s auto-flight system contributed to this accident,” the company said in a statement.“As a result, they flew the aircraft too low and too slow and collided with the seawall at the end of the runway.” Asiana’s pilot training also was faulted.'"
      ]
     },
     "execution_count": 86,
     "metadata": {},
     "output_type": "execute_result"
    }
   ],
   "source": [
    "sum_all(all_texts)"
   ]
  }
 ],
 "metadata": {
  "kernelspec": {
   "display_name": "Python 3",
   "language": "python",
   "name": "python3"
  },
  "language_info": {
   "codemirror_mode": {
    "name": "ipython",
    "version": 3
   },
   "file_extension": ".py",
   "mimetype": "text/x-python",
   "name": "python",
   "nbconvert_exporter": "python",
   "pygments_lexer": "ipython3",
   "version": "3.8.3"
  }
 },
 "nbformat": 4,
 "nbformat_minor": 4
}
