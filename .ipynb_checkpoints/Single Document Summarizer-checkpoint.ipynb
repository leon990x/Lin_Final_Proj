{
 "cells": [
  {
   "cell_type": "code",
<<<<<<< HEAD
<<<<<<< HEAD
   "execution_count": 33,
=======
   "execution_count": 91,
>>>>>>> 76348f64c26fc8fb19aa2d07764e2e160db977e2
=======
   "execution_count": 91,
>>>>>>> 76348f64c26fc8fb19aa2d07764e2e160db977e2
   "metadata": {},
   "outputs": [],
   "source": [
    "from sklearn.datasets import load_files\n",
    "import nltk\n",
    "#nltk.download('stopwords')\n",
    "from nltk import sent_tokenize\n",
    "from nltk import word_tokenize\n",
    "from nltk.corpus import stopwords\n",
    "from gensim.models import Word2Vec\n",
    "from gensim.models import KeyedVectors"
   ]
  },
  {
   "cell_type": "markdown",
   "metadata": {},
   "source": [
    "Sources:\n",
    "\n",
    "text1: https://www.seattletimes.com/business/ntsb-faults-asiana-pilots-for-777-crash-says-complex-automated-controls-a-factor/\n",
    "\n",
    "text2: https://www.theguardian.com/world/2014/jun/24/asiana-crash-san-francsico-controls-investigation-pilot"
   ]
  },
  {
   "cell_type": "code",
<<<<<<< HEAD
<<<<<<< HEAD
   "execution_count": 34,
=======
   "execution_count": 92,
>>>>>>> 76348f64c26fc8fb19aa2d07764e2e160db977e2
=======
   "execution_count": 92,
>>>>>>> 76348f64c26fc8fb19aa2d07764e2e160db977e2
   "metadata": {},
   "outputs": [],
   "source": [
    "text = '''Cambodian leader Hun Sen on Friday rejected opposition parties ' demands for talks outside the country , accusing them of trying to ` ` internationalize' ' the political crisis .\n",
    "Government and opposition parties have asked King Norodom Sihanouk to host a summit meeting after a series of post-election negotiations between the two opposition groups and Hun Sen 's party to form a new government failed .\n",
    "Opposition leaders Prince Norodom Ranariddh and Sam Rainsy , citing Hun Sen 's threats to arrest opposition figures after two alleged attempts on his life , said they could not negotiate freely in Cambodia and called for talks at Sihanouk 's residence in Beijing .\n",
    "Hun Sen , however , rejected that .\n",
    "` ` I would like to make it clear that all meetings related to Cambodian affairs must be conducted in the Kingdom of Cambodia,' ' Hun Sen told reporters after a Cabinet meeting on Friday .\n",
    "` ` No-one should internationalize Cambodian affairs .\n",
    "It is detrimental to the sovereignty of Cambodia,' ' he said .\n",
    "Hun Sen 's Cambodian People 's Party won 64 of the 122 parliamentary seats in July 's elections , short of the two-thirds majority needed to form a government on its own .\n",
    "Ranariddh and Sam Rainsy have charged that Hun Sen 's victory in the elections was achieved through widespread fraud .\n",
    "They have demanded a thorough investigation into their election complaints as a precondition for their cooperation in getting the national assembly moving and a new government formed .\n",
    "Hun Sen said on Friday that the opposition concerns over their safety in the country was ` ` just an excuse for them to stay abroad .\n",
    "' ' Both Ranariddh and Sam Rainsy have been outside the country since parliament was ceremonially opened on Sep. 24 .\n",
    "Sam Rainsy and a number of opposition figures have been under court investigation for a grenade attack on Hun Sen 's Phnom Penh residence on Sep. 7 .\n",
    "Hun Sen was not home at the time of the attack , which was followed by a police crackdown on demonstrators contesting Hun Sen 's election victory .\n",
    "The Sam Rainsy Party , in a statement released Friday , accused Hun Sen of being ` ` unwilling to make any compromise' ' on negotiations to break the deadlock .\n",
    "` ` A meeting outside Cambodia , as suggested by the opposition , could place all parties on more equal footing,' ' said the statement .\n",
    "` ` But the ruling party refuses to negotiate unless it is able to threaten its negotiating partners with arrest or worse .\n",
    "'''\n",
    "text1 = \"It has been said that except for man, nowhere in the world is there anything to compare with the incredible efficiency of the industry of the honeybee. Inside the beehive each bee has a special job to do and the whole process runs smoothly. Bees need two different kinds of food. One is honey made from nectar, the sugary juice that collects in the heart of the flowers. The other comes from the anthers of flowers, which contain numerous small grains called pollen. Just as flowers have different colours, so do their pollen. Let us go with the honeybee from her flower to the hive and see what happens. Most bees gather only pollen or nectar. As she sucks the nectar from the flower, it is stored in her special honey stomach ready to be transferred to the honey making bees in the hive. If hungry she opens a valve in the nectar sac and a portion of the payload passes through to her own stomach to be converted to energy for her own needs. The bee is a marvelous flying machine.\"\n",
    "text2 = \"Nectar is the main ingredient for honey and also the main source of energy for bees. Using a long straw like tongue called a proboscis, honey bees suck up nectar droplets from the flower's special nectar-making organ, called the nectary. When the nectar reaches the bees honey stomach, the stomach begins to break down the complex sugars of the nectar into more simple sugars that are less prone to crystallization, or becoming solid. This process is called inversion. Once a worker honey bee returns to the colony, it passes the nectar onto another younger bee called a house bee which is between 12 to 17 days old. House bees take the nectar inside the colony and pack it away in hexagon shaped beeswax honey cells. They then turn the nectar into honey by drying it out using a warm breeze made with their wings. Once the honey has dried out, they put a lid over the honey cell using fresh beeswax kind of like a little honey jar. In the winter, when the flowers have finished blooming and there's not as much nectar available, the bees can open this lid and share the honey they saved.\"\n",
    "all_texts = [text1, text2]\n",
    "\n",
    "\n",
    "#print(text)\n",
    "# 17 sentences"
   ]
  },
  {
   "cell_type": "code",
<<<<<<< HEAD
<<<<<<< HEAD
   "execution_count": 35,
   "metadata": {},
   "outputs": [
    {
     "name": "stderr",
     "output_type": "stream",
     "text": [
      "[nltk_data] Downloading package stopwords to\n",
      "[nltk_data]     C:\\Users\\PL\\AppData\\Roaming\\nltk_data...\n",
      "[nltk_data]   Package stopwords is already up-to-date!\n"
     ]
    }
   ],
   "source": [
    "import numpy as np\n",
    "import pandas as pd\n",
    "import nltk\n",
    "#nltk.download('punkt')\n",
    "nltk.download('stopwords')\n",
    "from nltk.corpus import stopwords\n",
    "stop_words = stopwords.words('english')\n",
    "from sklearn.metrics.pairwise import cosine_similarity\n",
    "import re\n",
    "import networkx as nx\n",
    "\n",
    "#Textrank Implementation\n",
    "df = pd.read_csv(\"texts.csv\", encoding='utf-8')\n",
    "\n",
    "#Tokenize sentences\n",
    "from nltk.tokenize import sent_tokenize\n",
    "sentences = []\n",
    "for s in df['article_text']:\n",
    "    sentences.append(sent_tokenize(s))\n",
    "sentences = [y for x in sentences for y in x] # flatten list\n",
    "\n",
    "#Extracting word vectors (from wikipedia + Gigaword 5 GloVe database)\n",
    "word_embeddings = {}\n",
    "f = open('glove.6B.100d.txt', encoding='utf-8')\n",
    "for line in f:\n",
    "    values = line.split()\n",
    "    word = values[0]\n",
    "    coefs = np.asarray(values[1:], dtype='float32')\n",
    "    word_embeddings[word] = coefs\n",
    "f.close()\n",
    "len(word_embeddings)\n",
    "\n",
    "#Pre-Processing ()\n",
    "clean_sentences = pd.Series(sentences).str.replace(\"[^a-zA-Z]\", \" \")\n",
    "clean_sentences = [s.lower() for s in clean_sentences]\n",
    "def remove_stopwords(sent):\n",
    "    sent_new = \" \".join([i for i in sent if i not in stop_words])\n",
    "    return sent_new\n",
    "\n",
    "clean_sentences = [remove_stopwords(r.split()) for r in clean_sentences]\n",
    "\n",
    "sentence_vectors = []\n",
    "for i in clean_sentences:\n",
    "    if len(i) != 0:\n",
    "        v = sum([word_embeddings.get(w, np.zeros((100,))) for w in i.split()])/(len(i.split())+0.001)\n",
    "    else:\n",
    "        v = np.zeros((100,))\n",
    "    sentence_vectors.append(v)\n",
    "    \n",
    "# similarity matrix\n",
    "sim_mat = np.zeros([len(sentences), len(sentences)])\n",
    "for i in range(len(sentences)):\n",
    "    for j in range(len(sentences)):\n",
    "        if i != j:\n",
    "            sim_mat[i][j] = cosine_similarity(sentence_vectors[i].reshape(1,100), sentence_vectors[j].reshape(1,100))[0,0]\n",
    "\n",
    "nx_graph = nx.from_numpy_array(sim_mat)\n",
    "scores = nx.pagerank(nx_graph)\n",
    "ranked_sentences = sorted(((scores[i],s) for i,s in enumerate(sentences)), reverse=True)\n",
    "\n",
    "# Extract top 10 sentences as the summary\n",
    "full_sum = \"\"\n",
    "for i in range(10):\n",
    "    full_sum += ranked_sentences[i][1]\n"
   ]
  },
  {
   "cell_type": "code",
   "execution_count": 36,
=======
   "execution_count": 93,
>>>>>>> 76348f64c26fc8fb19aa2d07764e2e160db977e2
=======
   "execution_count": 93,
>>>>>>> 76348f64c26fc8fb19aa2d07764e2e160db977e2
   "metadata": {},
   "outputs": [],
   "source": [
    "def frequency_table(data):\n",
    "    '''Tokenizing text by word and building a frequency table.'''\n",
    "    words = word_tokenize(data)\n",
    "    stop_words = set(stopwords.words(\"english\"))\n",
    "    \n",
    "    freqtable = {}\n",
    "    for word in words:\n",
    "        word = word.lower()\n",
    "        if word not in stop_words:\n",
    "            if word in freqtable:\n",
    "                freqtable[word] += 1\n",
    "            else:\n",
    "                freqtable[word] = 1\n",
    "   # print(freqtable.items())\n",
    "    return freqtable\n",
    "\n",
    "\n",
    "def scores(data, freqtable):\n",
    "    '''Creates a dictionary of scores for each sentence.'''\n",
    "    sentences = sent_tokenize(data)\n",
    "    sent_score = {}\n",
    "\n",
    "    for sent in sentences:\n",
    "        for word, freq in freqtable.items():\n",
    "            if word in sent.lower():\n",
    "                if sent in sent_score:\n",
    "                    sent_score[sent] += freq\n",
    "                else:\n",
    "                    sent_score[sent] = freq\n",
    "    return sent_score\n",
    "\n",
    "# print out setences higher than average\n",
    "def summary(data, sent_score):\n",
    "    '''Calculate average sentence score and print sentences at least 1.5 times greater than the average'''\n",
    "    sum_scores = 0\n",
    "    for sentence in sent_score:\n",
    "        sum_scores += sent_score[sentence]\n",
    "    average_score = sum_scores / len(sent_score)\n",
    "    \n",
    "    sentences = sent_tokenize(data)\n",
    "    summary = ''\n",
    "    for sentence in sentences:\n",
    "        if sentence in sent_score and sent_score[sentence] > average:\n",
    "            summary += \" \" + sentence\n",
    "    return summary\n",
    "\n",
    "# print out top 5 highest scoring sentences\n",
    "def summary_five(data, sent_score):\n",
    "    summary = ''\n",
    "    sorted_scores = sorted(sent_score, reverse = True)\n",
    "    for sent in list(sorted_scores)[0:5]:\n",
    "        summary += sent\n",
    "    return summary\n",
    "\n",
    "def single_summarize(data):\n",
    "    '''Combines functions to summarize a single document.'''\n",
    "    freqtable = frequency_table(data)\n",
    "    sent_scores = scores(data, freqtable)\n",
    "    single_summary = summary_five(data, sent_scores)\n",
    "    return single_summary\n",
    "\n",
    "def multi_sum(data):\n",
    "    '''Generates summaries for all documents. Takes in a list of texts'''\n",
    "    summaries = []\n",
    "    for d in data:\n",
    "        s = single_summarize(d)\n",
    "        summaries.append(s)\n",
    "    return summaries\n",
    "        \n",
    "def combine(summaries):\n",
    "    '''Merge summaries into a single summary. Takes in a list of summaries'''\n",
    "    all_sums = ''\n",
    "    for s in summaries:\n",
    "        all_sums += s\n",
    "    return all_sums\n",
    "\n",
    "def sum_all(data):\n",
    "    '''Generates comprehensive summary. Takes in a list of texts'''\n",
    "    all_summaries = multi_sum(data)\n",
    "    sum_sheet = combine(all_summaries)\n",
    "    final_summary = single_summarize(sum_sheet) #can change to include further redundancy reduction\n",
    "    return final_summary\n"
   ]
  },
  {
   "cell_type": "code",
<<<<<<< HEAD
<<<<<<< HEAD
   "execution_count": 37,
   "metadata": {},
   "outputs": [
    {
     "name": "stdout",
     "output_type": "stream",
     "text": [
      "Word frequency (WF) only:\n",
      "\n",
      "The other comes from the anthers of flowers, which contain numerous small grains called pollen.The bee is a marvelous flying machine.One is honey made from nectar, the sugary juice that collects in the heart of the flowers.Most bees gather only pollen or nectar.Let us go with the honeybee from her flower to the hive and see what happens.When the nectar reaches the bees honey stomach, the stomach begins to break down the complex sugars of the nectar into more simple sugars that are less prone to crystallization, or becoming solid.Using a long straw like tongue called a proboscis, honey bees suck up nectar droplets from the flower's special nectar-making organ, called the nectary.This process is called inversion.They then turn the nectar into honey by drying it out using a warm breeze made with their wings.Once the honey has dried out, they put a lid over the honey cell using fresh beeswax kind of like a little honey jar.\n",
      "\n",
      "Textrank only: \n",
      "\n",
      "Using a long straw like tongue called a proboscis, honey bees suck up nectar droplets from the flower's special nectar-making organ, called the nectary.House bees take the nectar inside the colony and pack it away in hexagon shaped beeswax honey cells.As she sucks the nectar from the flower, it is stored in her special honey stomach ready to be transferred to the honey making bees in the hive.In the winter, when the flowers have finished blooming and there's not as much nectar available, the bees can open this lid and share the honey they saved.They then turn the nectar into honey by drying it out using a warm breeze made with their wings.Once the honey has dried out, they put a lid over the honey cell using fresh beeswax kind of like a little honey jar.One is honey made from nectar, the sugary juice that collects in the heart of the flowers.When the nectar reaches the bees honey stomach, the stomach begins to break down the complex sugars of the nectar into more simple sugars that are less prone to crystallization, or becoming solid.Bees need two different kinds of food.Nectar is the main ingredient for honey and also the main source of energy for bees.\n",
      "\n",
      "Textrank + WF score: \n",
      "\n",
      "Using a long straw like tongue called a proboscis, honey bees suck up nectar droplets from the flower's special nectar-making organ, called the nectary.House bees take the nectar inside the colony and pack it away in hexagon shaped beeswax honey cells.As she sucks the nectar from the flower, it is stored in her special honey stomach ready to be transferred to the honey making bees in the hive.In the winter, when the flowers have finished blooming and there's not as much nectar available, the bees can open this lid and share the honey they saved.They then turn the nectar into honey by drying it out using a warm breeze made with their wings.Once the honey has dried out, they put a lid over the honey cell using fresh beeswax kind of like a little honey jar.One is honey made from nectar, the sugary juice that collects in the heart of the flowers.When the nectar reaches the bees honey stomach, the stomach begins to break down the complex sugars of the nectar into more simple sugars that are less prone to crystallization, or becoming solid.Bees need two different kinds of food.Nectar is the main ingredient for honey and also the main source of energy for bees.\n"
     ]
    }
   ],
   "source": [
    "print(\"Word frequency (WF) only:\")\n",
    "print()\n",
    "print(sum_all(all_texts))\n",
    "print()\n",
    "print(\"Textrank only: \")\n",
    "print()\n",
    "print(full_sum)\n",
    "print()\n",
    "print(\"Textrank + WF score: \")\n",
    "print()\n",
    "print(single_summarize(full_sum))\n",
    "#single_summarize(text)"
=======
=======
>>>>>>> 76348f64c26fc8fb19aa2d07764e2e160db977e2
   "execution_count": 94,
   "metadata": {},
   "outputs": [
    {
     "data": {
      "text/plain": [
       "'… This is something that has been known for many years and trained for many years.\"When the shattered plane came to rest, a fire erupted.Three experienced pilots were in the cockpit on 6 July 2013.The rest of plane went spinning and sliding down the runway.The plane, with 307 people on board, was too low and too slow during the landing attempt.“We are committed to a process of continual improvement of our airplanes, and we will carefully review the NTSB’s recommendations,” its statement said.“The auto-flight system has been used successfully for over 200 million flight hours across several airplane models, and for more than 55 million safe landings.“However, it is important that any recommendation concerning changes to the airplane’s design be reviewed with great care, and with due consideration for the potential unintended consequences of any change.“Boeing respectfully disagrees with the NTSB’s statement that the 777’s auto-flight system contributed to this accident,” the company said in a statement.“As a result, they flew the aircraft too low and too slow and collided with the seawall at the end of the runway.” Asiana’s pilot training also was faulted.'"
      ]
     },
     "execution_count": 94,
     "metadata": {},
     "output_type": "execute_result"
    }
   ],
   "source": [
    "sum_all(all_texts)\n",
    "#single_summarize(text)\n",
    "# hello"
<<<<<<< HEAD
>>>>>>> 76348f64c26fc8fb19aa2d07764e2e160db977e2
=======
>>>>>>> 76348f64c26fc8fb19aa2d07764e2e160db977e2
   ]
  }
 ],
 "metadata": {
  "kernelspec": {
   "display_name": "Python 3",
   "language": "python",
   "name": "python3"
  },
  "language_info": {
   "codemirror_mode": {
    "name": "ipython",
    "version": 3
   },
   "file_extension": ".py",
   "mimetype": "text/x-python",
   "name": "python",
   "nbconvert_exporter": "python",
   "pygments_lexer": "ipython3",
   "version": "3.7.7"
  }
 },
 "nbformat": 4,
 "nbformat_minor": 4
}
