{
 "cells": [
  {
   "cell_type": "code",
   "execution_count": 22,
   "metadata": {},
   "outputs": [],
   "source": [
    "from sklearn.datasets import load_files\n",
    "import nltk\n",
    "from nltk import sent_tokenize\n",
    "from nltk import word_tokenize\n",
    "from nltk.corpus import stopwords\n",
    "from nltk.stem import PorterStemmer\n",
    "from gensim.models import Word2Vec\n",
    "from gensim.models import KeyedVectors\n",
    "import pandas as pd\n",
    "import math"
   ]
  },
  {
   "cell_type": "code",
   "execution_count": 21,
   "metadata": {},
   "outputs": [
    {
     "name": "stdout",
     "output_type": "stream",
     "text": [
      "                                            document\n",
      "0  Cambodian leader Hun Sen on Friday rejected op...\n",
      "1  King Norodom Sihanouk has declined requests to...\n",
      "2  Cambodia 's two-party opposition asked the Asi...\n",
      "3  Cambodia 's ruling party responded Tuesday to ...\n",
      "4  Cambodia 's leading opposition party ruled out...\n"
     ]
    },
    {
     "data": {
      "text/plain": [
       "10"
      ]
     },
     "execution_count": 21,
     "metadata": {},
     "output_type": "execute_result"
    }
   ],
   "source": [
    "new_articles = pd.read_csv('news_articles.csv')\n",
    "new_articles.drop('Unnamed: 0', axis = 1, inplace = True)\n",
    "print(new_articles.head())\n",
    "\n",
    "articles = list(new_articles.document)\n",
    "len(articles)"
   ]
  },
  {
   "cell_type": "code",
   "execution_count": 8,
   "metadata": {},
   "outputs": [],
   "source": [
    "sentences = []\n",
    "for art in new_articles['document']:\n",
    "    sentences.append(sent_tokenize(art))\n",
    "sentences = [y for x in sentences for y in x]"
   ]
  },
  {
   "cell_type": "code",
   "execution_count": 14,
   "metadata": {},
   "outputs": [],
   "source": [
    "def tokenize_docs(articles):\n",
    "    sentences = []\n",
    "    for art in articles['document']:\n",
    "        sentences.append(sent_tokenize(art))\n",
    "    sentences = [y for x in sentences for y in x]\n",
    "    return sentences\n",
    "\n",
    "def frequency_matrix(sentences):\n",
    "    '''Takes in a list of sentences.\n",
    "    \n",
    "    Tokenizing text by word, counting words, and returning a frequency table.'''\n",
    "    stemmer = PorterStemmer()\n",
    "    stop_words = set(stopwords.words(\"english\"))\n",
    "    \n",
    "    freq_matrix = {}\n",
    "    for sent in sentences:\n",
    "        freqtable = {}\n",
    "        words = word_tokenize(sent)\n",
    "        for word in words:\n",
    "            word = word.lower()\n",
    "            word = stemmer.stem(word)\n",
    "            if word not in stop_words:\n",
    "                if word in freqtable:\n",
    "                    freqtable[word] += 1\n",
    "                else:\n",
    "                    freqtable[word] = 1\n",
    "        freq_matrix[sent] = freqtable\n",
    "   # print(freqtable.items())\n",
    "    return freq_matrix\n",
    "\n",
    "freq_mat = frequency_matrix(tokenize_docs(new_articles))"
   ]
  },
  {
   "cell_type": "code",
   "execution_count": 17,
   "metadata": {},
   "outputs": [],
   "source": [
    "def tf_matrix(freq_matrix):\n",
    "    tf_matrix = {}\n",
    "    for sent, ftable in freq_matrix.items():\n",
    "        tf_table = {}\n",
    "        sent_length = len(ftable)\n",
    "        for word, wcount in ftable.items():\n",
    "            tf_table[word] = wcount / sent_length\n",
    "        tf_matrix[sent] = tf_table\n",
    "    return tf_matrix\n",
    "\n",
    "tf_mat = tf_matrix(freq_mat)"
   ]
  },
  {
   "cell_type": "code",
   "execution_count": 20,
   "metadata": {},
   "outputs": [],
   "source": [
    "def doc_per_word_table(freq_matrix):\n",
    "    '''\n",
    "    Takes in frequency matrix.\n",
    "    Returns table of words and number of documents they each appear in.\n",
    "    '''\n",
    "    dpw_table = {}\n",
    "    for sent, ftable in freq_matrix.items():\n",
    "        for word, wcount in ftable.items():\n",
    "            if word in dpw_table:\n",
    "                dpw_table[word] += 1\n",
    "            else:\n",
    "                dpw_table[word] = 1\n",
    "    return dpw_table\n",
    "dpw = doc_per_word_table(freq_mat)"
   ]
  },
  {
   "cell_type": "code",
   "execution_count": 38,
   "metadata": {},
   "outputs": [],
   "source": [
    "def idf_matrix(freq_matrix, dpw_table, num_docs):\n",
    "    ''' Takes in frequency matrix, doc per word table, and number of documents to be summarized.\n",
    "    Returns IDF matrix.'''\n",
    "    idf_matrix = {}\n",
    "    for sent, ftable in freq_matrix.items():\n",
    "        idf_table = {}\n",
    "        for word in ftable.keys():\n",
    "            idf_table[word] = math.log(num_docs/dpw_table[word])\n",
    "        idf_matrix[sent] = idf_table\n",
    "    \n",
    "    return idf_matrix\n",
    "idf_mat = idf_matrix(freq_mat, dpw, len(articles))"
   ]
  },
  {
   "cell_type": "code",
   "execution_count": 39,
   "metadata": {},
   "outputs": [],
   "source": [
    "def tf_idf_matrix(tf_matrix, idf_matrix):\n",
    "    '''\n",
    "    Multiples two matrices and returns a matrix with tf-idf values.\n",
    "    '''\n",
    "    tf_idf_matrix = {}\n",
    "    for (sent1, ftable1), (sent2, ftable2) in zip(tf_matrix.items(), idf_matrix.items()):\n",
    "        tf_idf_table = {}\n",
    "        for (word1, freq1), (word2, freq2) in zip(ftable1.items(), ftable2.items()):\n",
    "            tf_idf_table[word1] = freq1 * freq2\n",
    "        tf_idf_matrix[sent1] = tf_idf_table\n",
    "    return tf_idf_matrix\n",
    "tfidf_mat = tf_idf_matrix(tf_mat, idf_mat)"
   ]
  },
  {
   "cell_type": "code",
   "execution_count": 43,
   "metadata": {},
   "outputs": [],
   "source": [
    "def sentence_score(tf_idf_matrix):\n",
    "    '''Creates a dictionary of scores for each sentence.'''\n",
    "    sent_scores = {}\n",
    "\n",
    "    for sent, ftable in tf_idf_matrix.items():\n",
    "        score = 0\n",
    "        sent_num_words = len(sent)\n",
    "        for word, value in ftable.items():\n",
    "            score += value\n",
    "        sent_scores[sent] = score / sent_num_words\n",
    "    return sent_scores\n",
    "sentscores = sentence_score(tfidf_mat)"
   ]
  },
  {
   "cell_type": "code",
   "execution_count": 52,
   "metadata": {},
   "outputs": [
    {
     "name": "stdout",
     "output_type": "stream",
     "text": [
      " They have demanded a thorough investigation into their election complaints as a precondition for their cooperation in getting the national assembly moving and a new government formed . ` ` But the ruling party refuses to negotiate unless it is able to threaten its negotiating partners with arrest or worse .\n",
      "' ` ` Only those who want to prolong the anarchy and instability prevent efforts to set up a new government,' ' Hun Sen said in a televised speech marking the anniversary of the 1991 Paris Peace Accords . International monitors said the election was relatively free and fair . Negotiations so far have proved fruitless except for the opening of parliament after a Sept. 22 summit led by the king . Sihanouk is reportedly set to fly to Beijing next month to receive medical treatment from his Chinese doctors . The 75-year-old monarch suffers from a variety ailments and periodically makes extended trips to Beijing . He was diagnosed with colon cancer in 1993 , but it has since gone into remission . In September , thousands of people filled the streets of Phnom Penh to protest against the alleged election fraud . At least four demonstrators were killed by police , but the discovery of more than 20 bodies in the aftermath has prompted speculation that the death tally could be much higher . Cambodia 's two-party opposition asked the Asian Development Bank Monday to stop providing loans to the incumbent government , which it calls illegal . Ranariddh and Sam Rainsy renewed their international lobbying campaign against the old government Monday in a letter to ADB President Mitsuo Sato calling for the bank to stop lending money to it . ` ` Some ( opposition politicians ) have wanted the United Nations to help guarantee a safe return for them .\n",
      "' The monitoring ended Sept. 30 . ` ` Our office has not received any official request for that operation to be started up again,' ' U.N. diplomat Jonathan Prentice said Monday in reaction to Prak Sokhonn 's statement . Diplomatic efforts to revive the stalled talks appeared to bear fruit Monday as Japanese Foreign Affairs Secretary of State Nobutaka Machimura said King Norodom Sihanouk has called on Ranariddh and Sam Rainsy to return to Cambodia . A copy of the resolution has since been submitted to the U.S. Senate Committee on Foreign Relations . It also repeated claims that the prince 's party had moved rebel soldiers into Phnom Penh , a contention that remains unproved . The killings of nearly 100 of Ranariddh 's supporters documented by U.N. human rights workers in the aftermath of the coup were dismissed by the CPP as mostly fabrications meant to distort the political situation . When their claims were dismissed by a Hun Sen-friendly court , they rallied their supporters into the streets of Phnom Penh . U.N. human rights workers later discovered more than 20 bodies _ many bearing signs of torture _ in and around the capital , prompting speculation that the death toll could be much higher . The opposition claims the grenade attack was staged as an excuse to begin the crackdown . ' The ruling party also reminded the United States that Washington supported a Cambodian exile government dominated by the brutal Khmer Rouge in the 1980s . The Khmer Rouge was responsible for the deaths of as many as 2 million people during the guerrilla group 's 1975-79 rule of Cambodia . After a series of border clashes , the Khmer Rouge was ousted from power by an invading Vietnamese army that set up a surrogate Cambodian communist government later led by Hun Sen . The ruling party accused U.S. policy-makers of not taking timely action to save the Cambodian people from the Khmer Rouge . Cambodia 's leading opposition party ruled out sharing the presidency of Parliament with its arch foe Saturday , insisting it alone must occupy the top position in the legislative body . ` ` Co-sharing anything with the CPP means surrendering full power to them . Noting that FUNCINPEC allowed the CPP to hold the presidency despite its win in the 1993 general elections , the statement said it was now its turn to take the post . The talks have been complicated by the CPP-FUNCINPEC quarrel over the Parliament 's top job . It was one of the main stumbling blocks in months of discord . Chea Sim will still serve as acting head of state during the king 's frequent absences from the country . The senior Senate leaders will join those of the assembly , the prime minister and the country 's top two Buddhist monks in a delicate balance of power on the council that will choose Cambodia 's next king after Sihanouk dies . The agreement came surprisingly quickly following Ranariddh 's return Thursday from Thailand , where he had been holed up with other opposition figures for weeks amid fears for their safety if they stayed in Cambodia . The deal should allow rapid formation of a government between the CPP and Ranariddh 's royalist FUNCINPEC to allow international donors and businesses to again operate in the poverty-stricken country , which is in desperate need of aid . Earlier , as both sides arrived at the Royal Palace for a second day of meetings , Sihanouk said they had agreed in principle to form a coalition and made ` ` important concessions .\n",
      "' ' The king , the sole force in Cambodian politics able to broker a deal , pressured both sides to reach agreement before he leaves Saturday for medical treatment in Beijing . All five were convicted of political crimes by courts that are widely seen as loyal to Hun Sen . Former battlefield enemies , the CPP and FUNCINPEC have been at loggerheads since the CPP narrowly won parliamentary elections in July . The vote failed to put an end to instability that followed last year 's coup . The CPP fell short of the two-thirds majority needed to form a government alone . Hun Sen and Ranariddh , co-prime ministers in a coalition formed in 1993 after a landmark U.N.-sponsored election , often clashed over power-sharing and the integration of guerrilla fighters from the crumbling Khmer Rouge . ` ` When we had two prime ministers , everything moved very slowly and decisions were made more politically than technically .\n",
      "' ' Ranariddh said Saturday that the two parties agreed to keep the ministries of interior and defense under co-ministers . Senior FUNCINPEC official Ahmad Yahya revealed Monday that it was also agreed that the CPP would control the foreign affairs and finance portfolios . FUNCINPEC will take justice and information . Hun Sen and Ranariddh are scheduled to meet Nov. 23 _ two days before parliament reopens _ to review the results of the working groups and give their final approval , Ahmad Yahya said . Their ability to repair their relationship and work together will be the key to a stable coalition . Authorities have called it an assassination attempt on Hun Sen. A police general investigating the attack said Monday that likely suspects have been identified , but he would not reveal names or their political affiliation . ` ` But instead they make roundabout statements , full of loopholes that can easily be exploited by a legal system that is completely in their control .\n",
      "' He 's got the premiership and legitimacy through the election and recognition from his majesty the king . The prince also said that his top general , Nhek Bunchhay , would not be given back his previous position as the second-ranking general in the Cambodian military 's general staff . Nhek Bunchhay 's outnumbered forces in the capital put up tough but unsuccessful resistance to last year 's coup . Sihanouk , recalling procedures used in a past government , suggested Tuesday that he should appoint the first two members of the upper house . Other details of the Senate , including how much power it will be given in the promulgation of legislation , have yet to be ironed out by the two parties .\n"
     ]
    }
   ],
   "source": [
    "def summary(sent_scores):\n",
    "    '''Calculate average sentence score and print sentences at least 1.3 times greater than the average'''\n",
    "    sum_scores = 0\n",
    "    for sentence in sent_scores:\n",
    "        sum_scores += sent_scores[sentence]\n",
    "    average_score = sum_scores / len(sent_scores)\n",
    "    #print(average_score)\n",
    "    \n",
    "    summary = ''\n",
    "    for sentence in sent_scores:\n",
    "        if sentence in sent_scores and sent_scores[sentence] > 1.3 * (.01 + average_score):\n",
    "            summary += \" \" + sentence\n",
    "    return summary\n",
    "\n",
    "summary = summary(sentscores)\n",
    "print(summary)"
   ]
  }
 ],
 "metadata": {
  "kernelspec": {
   "display_name": "Python 3",
   "language": "python",
   "name": "python3"
  },
  "language_info": {
   "codemirror_mode": {
    "name": "ipython",
    "version": 3
   },
   "file_extension": ".py",
   "mimetype": "text/x-python",
   "name": "python",
   "nbconvert_exporter": "python",
   "pygments_lexer": "ipython3",
   "version": "3.7.7"
  }
 },
 "nbformat": 4,
 "nbformat_minor": 4
}
