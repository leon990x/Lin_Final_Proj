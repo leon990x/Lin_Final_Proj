{
 "cells": [
  {
   "cell_type": "code",
   "execution_count": 2,
   "metadata": {},
   "outputs": [],
   "source": [
    "from sklearn.datasets import load_files\n",
    "import nltk\n",
    "from nltk import sent_tokenize\n",
    "from nltk import word_tokenize\n",
    "from nltk.corpus import stopwords\n",
    "from gensim.models import Word2Vec\n",
    "from gensim.models import KeyedVectors"
   ]
  },
  {
   "cell_type": "code",
   "execution_count": 34,
   "metadata": {},
   "outputs": [
    {
     "name": "stdout",
     "output_type": "stream",
     "text": [
      "Cambodian leader Hun Sen on Friday rejected opposition parties ' demands for talks outside the country , accusing them of trying to ` ` internationalize' ' the political crisis .\n",
      "Government and opposition parties have asked King Norodom Sihanouk to host a summit meeting after a series of post-election negotiations between the two opposition groups and Hun Sen 's party to form a new government failed .\n",
      "Opposition leaders Prince Norodom Ranariddh and Sam Rainsy , citing Hun Sen 's threats to arrest opposition figures after two alleged attempts on his life , said they could not negotiate freely in Cambodia and called for talks at Sihanouk 's residence in Beijing .\n",
      "Hun Sen , however , rejected that .\n",
      "` ` I would like to make it clear that all meetings related to Cambodian affairs must be conducted in the Kingdom of Cambodia,' ' Hun Sen told reporters after a Cabinet meeting on Friday .\n",
      "` ` No-one should internationalize Cambodian affairs .\n",
      "It is detrimental to the sovereignty of Cambodia,' ' he said .\n",
      "Hun Sen 's Cambodian People 's Party won 64 of the 122 parliamentary seats in July 's elections , short of the two-thirds majority needed to form a government on its own .\n",
      "Ranariddh and Sam Rainsy have charged that Hun Sen 's victory in the elections was achieved through widespread fraud .\n",
      "They have demanded a thorough investigation into their election complaints as a precondition for their cooperation in getting the national assembly moving and a new government formed .\n",
      "Hun Sen said on Friday that the opposition concerns over their safety in the country was ` ` just an excuse for them to stay abroad .\n",
      "' ' Both Ranariddh and Sam Rainsy have been outside the country since parliament was ceremonially opened on Sep. 24 .\n",
      "Sam Rainsy and a number of opposition figures have been under court investigation for a grenade attack on Hun Sen 's Phnom Penh residence on Sep. 7 .\n",
      "Hun Sen was not home at the time of the attack , which was followed by a police crackdown on demonstrators contesting Hun Sen 's election victory .\n",
      "The Sam Rainsy Party , in a statement released Friday , accused Hun Sen of being ` ` unwilling to make any compromise' ' on negotiations to break the deadlock .\n",
      "` ` A meeting outside Cambodia , as suggested by the opposition , could place all parties on more equal footing,' ' said the statement .\n",
      "` ` But the ruling party refuses to negotiate unless it is able to threaten its negotiating partners with arrest or worse .\n",
      "\n"
     ]
    }
   ],
   "source": [
    "text = '''Cambodian leader Hun Sen on Friday rejected opposition parties ' demands for talks outside the country , accusing them of trying to ` ` internationalize' ' the political crisis .\n",
    "Government and opposition parties have asked King Norodom Sihanouk to host a summit meeting after a series of post-election negotiations between the two opposition groups and Hun Sen 's party to form a new government failed .\n",
    "Opposition leaders Prince Norodom Ranariddh and Sam Rainsy , citing Hun Sen 's threats to arrest opposition figures after two alleged attempts on his life , said they could not negotiate freely in Cambodia and called for talks at Sihanouk 's residence in Beijing .\n",
    "Hun Sen , however , rejected that .\n",
    "` ` I would like to make it clear that all meetings related to Cambodian affairs must be conducted in the Kingdom of Cambodia,' ' Hun Sen told reporters after a Cabinet meeting on Friday .\n",
    "` ` No-one should internationalize Cambodian affairs .\n",
    "It is detrimental to the sovereignty of Cambodia,' ' he said .\n",
    "Hun Sen 's Cambodian People 's Party won 64 of the 122 parliamentary seats in July 's elections , short of the two-thirds majority needed to form a government on its own .\n",
    "Ranariddh and Sam Rainsy have charged that Hun Sen 's victory in the elections was achieved through widespread fraud .\n",
    "They have demanded a thorough investigation into their election complaints as a precondition for their cooperation in getting the national assembly moving and a new government formed .\n",
    "Hun Sen said on Friday that the opposition concerns over their safety in the country was ` ` just an excuse for them to stay abroad .\n",
    "' ' Both Ranariddh and Sam Rainsy have been outside the country since parliament was ceremonially opened on Sep. 24 .\n",
    "Sam Rainsy and a number of opposition figures have been under court investigation for a grenade attack on Hun Sen 's Phnom Penh residence on Sep. 7 .\n",
    "Hun Sen was not home at the time of the attack , which was followed by a police crackdown on demonstrators contesting Hun Sen 's election victory .\n",
    "The Sam Rainsy Party , in a statement released Friday , accused Hun Sen of being ` ` unwilling to make any compromise' ' on negotiations to break the deadlock .\n",
    "` ` A meeting outside Cambodia , as suggested by the opposition , could place all parties on more equal footing,' ' said the statement .\n",
    "` ` But the ruling party refuses to negotiate unless it is able to threaten its negotiating partners with arrest or worse .\n",
    "'''\n",
    "print(text)\n",
    "# 17 sentences"
   ]
  },
  {
   "cell_type": "code",
   "execution_count": 65,
   "metadata": {},
   "outputs": [],
   "source": [
    "def frequency_table(data):\n",
    "    '''Tokenizing text by word and building a frequency table.'''\n",
    "    words = word_tokenize(data)\n",
    "    stop_words = set(stopwords.words(\"english\"))\n",
    "    \n",
    "    freqtable = {}\n",
    "    for word in words:\n",
    "        word = word.lower()\n",
    "        if word not in stop_words:\n",
    "            if word in freqtable:\n",
    "                freqtable[word] += 1\n",
    "            else:\n",
    "                freqtable[word] = 1\n",
    "   # print(freqtable.items())\n",
    "    return freqtable\n",
    "\n",
    "\n",
    "def scores(data, freqtable):\n",
    "    '''Creates a dictionary of scores for each sentence.'''\n",
    "    sentences = sent_tokenize(data)\n",
    "    sent_score = {}\n",
    "\n",
    "    for sent in sentences:\n",
    "        for word, freq in freqtable.items():\n",
    "            if word in sent.lower():\n",
    "                if sent in sent_score:\n",
    "                    sent_score[sent] += freq\n",
    "                else:\n",
    "                    sent_score[sent] = freq\n",
    "    return sent_score\n",
    "\n",
    "# print out setences higher than average\n",
    "def summary(data, sent_score):\n",
    "    '''Calculate average sentence score and print sentences at least 1.5 times greater than the average'''\n",
    "    sum_scores = 0\n",
    "    for sentence in sent_score:\n",
    "        sum_scores += sent_score[sentence]\n",
    "    average_score = sum_scores / len(sent_score)\n",
    "    \n",
    "    sentences = sent_tokenize(data)\n",
    "    summary = ''\n",
    "    for sentence in sentences:\n",
    "        if sentence in sent_score and sent_score[sentence] > average:\n",
    "            summary += \" \" + sentence\n",
    "    return summary\n",
    "\n",
    "# print out top 5 highest scoring sentences\n",
    "def summary_five(data, sent_score):\n",
    "    summary = ''\n",
    "    sorted_scores = sorted(sent_score, reverse = True)\n",
    "    for sent in list(sorted_scores)[0:5]:\n",
    "        summary += sent\n",
    "    return summary\n",
    "\n",
    "def single_summarize(data):\n",
    "    '''Combines functions to summarize a single document.'''\n",
    "    freqtable = frequency_table(data)\n",
    "    sent_scores = scores(data, freqtable)\n",
    "    single_summary = summary_five(data, sent_scores)\n",
    "    return single_summary"
   ]
  },
  {
   "cell_type": "code",
   "execution_count": 66,
   "metadata": {},
   "outputs": [
    {
     "data": {
      "text/plain": [
       "\"` ` No-one should internationalize Cambodian affairs .` ` I would like to make it clear that all meetings related to Cambodian affairs must be conducted in the Kingdom of Cambodia,' ' Hun Sen told reporters after a Cabinet meeting on Friday .` ` But the ruling party refuses to negotiate unless it is able to threaten its negotiating partners with arrest or worse .` ` A meeting outside Cambodia , as suggested by the opposition , could place all parties on more equal footing,' ' said the statement .They have demanded a thorough investigation into their election complaints as a precondition for their cooperation in getting the national assembly moving and a new government formed .\""
      ]
     },
     "execution_count": 66,
     "metadata": {},
     "output_type": "execute_result"
    }
   ],
   "source": [
    "single_summarize(text)"
   ]
  }
 ],
 "metadata": {
  "kernelspec": {
   "display_name": "Python 3",
   "language": "python",
   "name": "python3"
  },
  "language_info": {
   "codemirror_mode": {
    "name": "ipython",
    "version": 3
   },
   "file_extension": ".py",
   "mimetype": "text/x-python",
   "name": "python",
   "nbconvert_exporter": "python",
   "pygments_lexer": "ipython3",
   "version": "3.7.7"
  }
 },
 "nbformat": 4,
 "nbformat_minor": 4
}
